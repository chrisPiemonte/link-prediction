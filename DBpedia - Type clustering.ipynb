{
 "cells": [
  {
   "cell_type": "code",
   "execution_count": 1,
   "metadata": {
    "collapsed": true
   },
   "outputs": [],
   "source": [
    "import os, sys, rdflib\n",
    "import numpy as np, pandas as pd\n",
    "from sklearn.manifold import TSNE\n",
    "from gensim.models import Word2Vec\n",
    "import rdflib.plugins.sparql as sparql\n",
    "from SPARQLWrapper import SPARQLWrapper, JSON\n",
    "sys.path.append(os.path.abspath(\"./util\"))\n",
    "from misc import *\n",
    "\n",
    "import matplotlib.pyplot as plt\n",
    "plt.style.use('ggplot')\n",
    "%matplotlib inline\n",
    "%config InlineBackend.figure_format = 'retina'\n",
    "\n",
    "from sklearn import metrics\n",
    "from hdbscan import HDBSCAN\n",
    "from sklearn.cluster import DBSCAN, KMeans, SpectralClustering, AgglomerativeClustering"
   ]
  },
  {
   "cell_type": "code",
   "execution_count": 2,
   "metadata": {},
   "outputs": [
    {
     "name": "stdout",
     "output_type": "stream",
     "text": [
      "CPU times: user 2.98 s, sys: 875 ms, total: 3.85 s\n",
      "Wall time: 6.44 s\n"
     ]
    }
   ],
   "source": [
    "%%time\n",
    "%store -r uri_type\n",
    "if \"uri_type\" not in locals():\n",
    "    dbpedia_type_graph = rdflib.Graph()\n",
    "    dbpedia_type_graph.parse('./dataset/instance_types_en_uris_it.nt', format=\"nt\" )\n",
    "    dbpedia_type_graph.parse('./dataset/instance_types_en.nt', format=\"nt\" )"
   ]
  },
  {
   "cell_type": "code",
   "execution_count": 3,
   "metadata": {},
   "outputs": [
    {
     "data": {
      "text/plain": [
       "9023075"
      ]
     },
     "execution_count": 3,
     "metadata": {},
     "output_type": "execute_result"
    }
   ],
   "source": [
    "walks_path = \"./dataset/embedding_5_7_dbpedia_3.9_infobox_properties_no_literal.nt.txt\"\n",
    "\n",
    "vocab_sequences = get_sequences(walks_path)\n",
    "train_sequences = get_sequences(walks_path)\n",
    "\n",
    "model = Word2Vec(min_count=1, window=5, negative=5, size=100)\n",
    "\n",
    "model.build_vocab(vocab_sequences)\n",
    "model.train(train_sequences)"
   ]
  },
  {
   "cell_type": "code",
   "execution_count": 4,
   "metadata": {
    "collapsed": true
   },
   "outputs": [],
   "source": [
    "%store -r uri_type\n",
    "if \"uri_type\" not in locals():\n",
    "    uri_type = dict()\n",
    "    for uri in model.vocab:\n",
    "        types = {row[0].n3() for row in get_types(uri, dbpedia_type_graph)}\n",
    "        if len(types) > 0:\n",
    "            uri_type[uri] = types\n",
    "    %store uri_type"
   ]
  },
  {
   "cell_type": "code",
   "execution_count": 5,
   "metadata": {
    "collapsed": true
   },
   "outputs": [],
   "source": [
    "embeds = np.asarray([model[uri] for uri in uri_type])\n",
    "uris   = np.asarray([uri for uri in uri_type])\n",
    "# labels = np.asarray([1 if is_person(mid, mid2types) else 0 for mid in mid2types])\n",
    "\n",
    "# tsne = TSNE(n_components=2)\n",
    "# %store -r twodims\n",
    "# if \"twodims\" not in locals():\n",
    "#     twodims = tsne.fit_transform(embeds)\n",
    "#     %store twodims\n",
    "\n",
    "ground_truth = get_ground_truth(uris, uri_type)\n",
    "\n",
    "# colors  = [get_color(i) for i in ground_truth]"
   ]
  },
  {
   "cell_type": "code",
   "execution_count": null,
   "metadata": {},
   "outputs": [
    {
     "name": "stdout",
     "output_type": "stream",
     "text": [
      "CPU times: user 3min 16s, sys: 7.59 s, total: 3min 23s\n",
      "Wall time: 1min 8s\n"
     ]
    }
   ],
   "source": [
    "%%time\n",
    "# hdbscan = HDBSCAN(min_cluster_size=30)\n",
    "# dbscan  = DBSCAN(eps=0.4, min_samples=5)\n",
    "kmeans  = KMeans(n_clusters=10)\n",
    "# spect   = SpectralClustering(n_clusters=7, eigen_solver='arpack', affinity=\"nearest_neighbors\")\n",
    "# aggl    = AgglomerativeClustering(linkage=\"average\", affinity=\"cityblock\", n_clusters=7)\n",
    "\n",
    "# hdbscan_labels = hdbscan.fit_predict(embeds.astype(np.double))\n",
    "# dbscan_labels  = dbscan.fit_predict(embeds.astype(np.double))\n",
    "kmeans_labels  = kmeans.fit_predict(embeds.astype(np.double))\n",
    "\n",
    "# %store -r spect_labels_dbpedia\n",
    "# %store -r aggl_labels_dbpedia\n",
    "# \n",
    "# if \"spect_labels_dbpedia\" not in locals():\n",
    "#     spect_labels_dbpedia = spect.fit_predict(embeds.astype(np.double))\n",
    "#     aggl_labels_dbpedia  = aggl.fit_predict(embeds.astype(np.double))\n",
    "#     %store spect_labels_dbpedia\n",
    "#     %store aggl_labels_dbpedia\n",
    "\n",
    "# cluster_colors = [get_color(clust) for clust in spect_labels]"
   ]
  },
  {
   "cell_type": "code",
   "execution_count": null,
   "metadata": {
    "collapsed": true
   },
   "outputs": [],
   "source": [
    "metrics_class_df = pd.concat([\n",
    "    # clust_metrics(ground_truth, hdbscan_labels, embeds, metric=\"euclidean\", name=\"HDBSCAN\"),\n",
    "    # clust_metrics(ground_truth, dbscan_labels, embeds, metric=\"euclidean\", name=\"DBSCAN\"),\n",
    "    clust_metrics(ground_truth, kmeans_labels, embeds, metric=\"euclidean\", name=\"KMeans\"),\n",
    "    # clust_metrics(ground_truth, spect_labels_dbpedia, embeds, metric=\"euclidean\", name=\"Spectral\"),\n",
    "    # clust_metrics(ground_truth, aggl_labels_dbpedia, embeds, metric=\"euclidean\", name=\"Agglomerative\")\n",
    "])\n",
    "\n",
    "metrics_class_df# "
   ]
  }
 ],
 "metadata": {
  "kernelspec": {
   "display_name": "Python 2",
   "language": "python",
   "name": "python2"
  },
  "language_info": {
   "codemirror_mode": {
    "name": "ipython",
    "version": 2
   },
   "file_extension": ".py",
   "mimetype": "text/x-python",
   "name": "python",
   "nbconvert_exporter": "python",
   "pygments_lexer": "ipython2",
   "version": "2.7.11"
  }
 },
 "nbformat": 4,
 "nbformat_minor": 2
}
